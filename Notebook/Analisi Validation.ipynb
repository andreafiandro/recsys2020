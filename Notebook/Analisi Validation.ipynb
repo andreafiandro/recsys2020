{
 "cells": [
  {
   "cell_type": "markdown",
   "metadata": {},
   "source": [
    "# EDA validation "
   ]
  },
  {
   "cell_type": "code",
   "execution_count": 1,
   "metadata": {},
   "outputs": [
    {
     "name": "stderr",
     "output_type": "stream",
     "text": [
      "/home/andreafiandro/.local/lib/python3.8/site-packages/dask/array/random.py:25: FutureWarning: dask.array.random.doc_wraps is deprecated and will be removed in a future version\n",
      "  warnings.warn(\n"
     ]
    }
   ],
   "source": [
    "import pandas as pd\n",
    "from recsysUtility import RecSysUtility\n",
    "from tqdm import tqdm_notebook\n",
    "import matplotlib.pyplot as plt\n",
    "import numpy as np"
   ]
  },
  {
   "cell_type": "markdown",
   "metadata": {},
   "source": [
    "## Carico il dataset e pulisco le colonne"
   ]
  },
  {
   "cell_type": "code",
   "execution_count": 2,
   "metadata": {},
   "outputs": [],
   "source": [
    "rsUtils = RecSysUtility('/home/andreafiandro/NAS/training.tsv')"
   ]
  },
  {
   "cell_type": "code",
   "execution_count": 3,
   "metadata": {},
   "outputs": [],
   "source": [
    "df_val = pd.read_csv('/home/andreafiandro/NAS/val.tsv', sep='\\u0001', header=None, nrows=4000000)\n",
    "df_val = rsUtils.process_chunk_tsv(df_val, isVal=True)"
   ]
  },
  {
   "cell_type": "markdown",
   "metadata": {},
   "source": [
    "## Overview dei dati"
   ]
  },
  {
   "cell_type": "code",
   "execution_count": 4,
   "metadata": {},
   "outputs": [
    {
     "name": "stdout",
     "output_type": "stream",
     "text": [
      "Test shape (4000000, 20)\n"
     ]
    }
   ],
   "source": [
    "print ('Test shape',  df_val.shape)"
   ]
  },
  {
   "cell_type": "code",
   "execution_count": 5,
   "metadata": {},
   "outputs": [
    {
     "data": {
      "text/html": [
       "<div>\n",
       "<style scoped>\n",
       "    .dataframe tbody tr th:only-of-type {\n",
       "        vertical-align: middle;\n",
       "    }\n",
       "\n",
       "    .dataframe tbody tr th {\n",
       "        vertical-align: top;\n",
       "    }\n",
       "\n",
       "    .dataframe thead th {\n",
       "        text-align: right;\n",
       "    }\n",
       "</style>\n",
       "<table border=\"1\" class=\"dataframe\">\n",
       "  <thead>\n",
       "    <tr style=\"text-align: right;\">\n",
       "      <th></th>\n",
       "      <th>Text_tokens</th>\n",
       "      <th>Hashtags</th>\n",
       "      <th>Tweet_id</th>\n",
       "      <th>Present_media</th>\n",
       "      <th>Present_links</th>\n",
       "      <th>Present_domains</th>\n",
       "      <th>Tweet_type</th>\n",
       "      <th>Language</th>\n",
       "      <th>Timestamp</th>\n",
       "      <th>User_id</th>\n",
       "      <th>...</th>\n",
       "      <th>Following_count</th>\n",
       "      <th>Is_verified</th>\n",
       "      <th>Account_creation_time</th>\n",
       "      <th>User_id_engaging</th>\n",
       "      <th>Follower_count_engaging</th>\n",
       "      <th>Following_count_engaging</th>\n",
       "      <th>Is_verified_engaging</th>\n",
       "      <th>Account_creation_time_engaging</th>\n",
       "      <th>Engagee_follows_engager</th>\n",
       "      <th>Text_tokens_count</th>\n",
       "    </tr>\n",
       "  </thead>\n",
       "  <tbody>\n",
       "    <tr>\n",
       "      <th>0</th>\n",
       "      <td>101|47185|10157|100986|10343|55422|119|14120|1...</td>\n",
       "      <td>0</td>\n",
       "      <td>7647B4E9DAF4C1D8973397DC2A04F3E3</td>\n",
       "      <td>Photo</td>\n",
       "      <td>0</td>\n",
       "      <td>0</td>\n",
       "      <td>TopLevel</td>\n",
       "      <td>D3164C7FBCF2565DDF915B1B3AEFB1DC</td>\n",
       "      <td>1581703126</td>\n",
       "      <td>8A9AB92B775C62C4AB60DF6773A01571</td>\n",
       "      <td>...</td>\n",
       "      <td>1216</td>\n",
       "      <td>0</td>\n",
       "      <td>1448292186</td>\n",
       "      <td>0000006C3074607050F1339DDCB890BB</td>\n",
       "      <td>27448</td>\n",
       "      <td>600</td>\n",
       "      <td>0</td>\n",
       "      <td>1520948869</td>\n",
       "      <td>True</td>\n",
       "      <td>26</td>\n",
       "    </tr>\n",
       "    <tr>\n",
       "      <th>1</th>\n",
       "      <td>101|56898|137|10730|107105|59578|17394|17394|1...</td>\n",
       "      <td>0</td>\n",
       "      <td>408DB1803264B5FF55F73EC06BE9BD77</td>\n",
       "      <td>Photo|Photo|Photo|Photo</td>\n",
       "      <td>0</td>\n",
       "      <td>0</td>\n",
       "      <td>Retweet</td>\n",
       "      <td>B9175601E87101A984A50F8A62A1C374</td>\n",
       "      <td>1582021842</td>\n",
       "      <td>825B003667DF15692B1704F44DAFD1A2</td>\n",
       "      <td>...</td>\n",
       "      <td>100</td>\n",
       "      <td>0</td>\n",
       "      <td>1263078566</td>\n",
       "      <td>000013315386492275CCBF7AEF293EF0</td>\n",
       "      <td>139</td>\n",
       "      <td>956</td>\n",
       "      <td>0</td>\n",
       "      <td>1335110299</td>\n",
       "      <td>False</td>\n",
       "      <td>28</td>\n",
       "    </tr>\n",
       "    <tr>\n",
       "      <th>2</th>\n",
       "      <td>101|16735|11584|131|14120|131|120|120|188|119|...</td>\n",
       "      <td>0</td>\n",
       "      <td>2EE951379C47E8BF62EABB8FA027F753</td>\n",
       "      <td>GIF</td>\n",
       "      <td>0</td>\n",
       "      <td>0</td>\n",
       "      <td>TopLevel</td>\n",
       "      <td>2996EB2FE8162C076D070A4C8D6532CD</td>\n",
       "      <td>1581734918</td>\n",
       "      <td>2DEC09796D0EB473244CB7A4FB13A0A0</td>\n",
       "      <td>...</td>\n",
       "      <td>1</td>\n",
       "      <td>0</td>\n",
       "      <td>1356488269</td>\n",
       "      <td>00001569CB28972FC8173122D9DA162F</td>\n",
       "      <td>16</td>\n",
       "      <td>97</td>\n",
       "      <td>0</td>\n",
       "      <td>1503940711</td>\n",
       "      <td>False</td>\n",
       "      <td>20</td>\n",
       "    </tr>\n",
       "    <tr>\n",
       "      <th>3</th>\n",
       "      <td>101|56898|137|12127|43213|10245|168|10215|1011...</td>\n",
       "      <td>0</td>\n",
       "      <td>2135F24B05DAE3EF213F9CE80FDC6DAF</td>\n",
       "      <td>Photo|Photo|Photo</td>\n",
       "      <td>0</td>\n",
       "      <td>0</td>\n",
       "      <td>Retweet</td>\n",
       "      <td>D3164C7FBCF2565DDF915B1B3AEFB1DC</td>\n",
       "      <td>1581913613</td>\n",
       "      <td>487BCB8F1677A6D9EEE612940410CBB6</td>\n",
       "      <td>...</td>\n",
       "      <td>406</td>\n",
       "      <td>0</td>\n",
       "      <td>1449096567</td>\n",
       "      <td>00001607209C5774DF9207A2AC0EED5F</td>\n",
       "      <td>460</td>\n",
       "      <td>693</td>\n",
       "      <td>0</td>\n",
       "      <td>1396311956</td>\n",
       "      <td>True</td>\n",
       "      <td>39</td>\n",
       "    </tr>\n",
       "    <tr>\n",
       "      <th>4</th>\n",
       "      <td>101|11101|42780|10741|11222|10197|15304|10106|...</td>\n",
       "      <td>0</td>\n",
       "      <td>09143FEDE9BD494A6EA9A7EE160565E3</td>\n",
       "      <td>Photo</td>\n",
       "      <td>0</td>\n",
       "      <td>0</td>\n",
       "      <td>TopLevel</td>\n",
       "      <td>D3164C7FBCF2565DDF915B1B3AEFB1DC</td>\n",
       "      <td>1581565745</td>\n",
       "      <td>C85C39DC8D279E51DF1BBF0391E5EB2E</td>\n",
       "      <td>...</td>\n",
       "      <td>273</td>\n",
       "      <td>1</td>\n",
       "      <td>1236181798</td>\n",
       "      <td>0000177705514C315F2FC6DFA3872712</td>\n",
       "      <td>468</td>\n",
       "      <td>3837</td>\n",
       "      <td>0</td>\n",
       "      <td>1298646801</td>\n",
       "      <td>False</td>\n",
       "      <td>27</td>\n",
       "    </tr>\n",
       "  </tbody>\n",
       "</table>\n",
       "<p>5 rows × 21 columns</p>\n",
       "</div>"
      ],
      "text/plain": [
       "                                         Text_tokens  Hashtags  \\\n",
       "0  101|47185|10157|100986|10343|55422|119|14120|1...         0   \n",
       "1  101|56898|137|10730|107105|59578|17394|17394|1...         0   \n",
       "2  101|16735|11584|131|14120|131|120|120|188|119|...         0   \n",
       "3  101|56898|137|12127|43213|10245|168|10215|1011...         0   \n",
       "4  101|11101|42780|10741|11222|10197|15304|10106|...         0   \n",
       "\n",
       "                           Tweet_id            Present_media Present_links  \\\n",
       "0  7647B4E9DAF4C1D8973397DC2A04F3E3                    Photo             0   \n",
       "1  408DB1803264B5FF55F73EC06BE9BD77  Photo|Photo|Photo|Photo             0   \n",
       "2  2EE951379C47E8BF62EABB8FA027F753                      GIF             0   \n",
       "3  2135F24B05DAE3EF213F9CE80FDC6DAF        Photo|Photo|Photo             0   \n",
       "4  09143FEDE9BD494A6EA9A7EE160565E3                    Photo             0   \n",
       "\n",
       "  Present_domains Tweet_type                          Language   Timestamp  \\\n",
       "0               0   TopLevel  D3164C7FBCF2565DDF915B1B3AEFB1DC  1581703126   \n",
       "1               0    Retweet  B9175601E87101A984A50F8A62A1C374  1582021842   \n",
       "2               0   TopLevel  2996EB2FE8162C076D070A4C8D6532CD  1581734918   \n",
       "3               0    Retweet  D3164C7FBCF2565DDF915B1B3AEFB1DC  1581913613   \n",
       "4               0   TopLevel  D3164C7FBCF2565DDF915B1B3AEFB1DC  1581565745   \n",
       "\n",
       "                            User_id  ...  Following_count  Is_verified  \\\n",
       "0  8A9AB92B775C62C4AB60DF6773A01571  ...             1216            0   \n",
       "1  825B003667DF15692B1704F44DAFD1A2  ...              100            0   \n",
       "2  2DEC09796D0EB473244CB7A4FB13A0A0  ...                1            0   \n",
       "3  487BCB8F1677A6D9EEE612940410CBB6  ...              406            0   \n",
       "4  C85C39DC8D279E51DF1BBF0391E5EB2E  ...              273            1   \n",
       "\n",
       "   Account_creation_time                  User_id_engaging  \\\n",
       "0             1448292186  0000006C3074607050F1339DDCB890BB   \n",
       "1             1263078566  000013315386492275CCBF7AEF293EF0   \n",
       "2             1356488269  00001569CB28972FC8173122D9DA162F   \n",
       "3             1449096567  00001607209C5774DF9207A2AC0EED5F   \n",
       "4             1236181798  0000177705514C315F2FC6DFA3872712   \n",
       "\n",
       "  Follower_count_engaging  Following_count_engaging  Is_verified_engaging  \\\n",
       "0                   27448                       600                     0   \n",
       "1                     139                       956                     0   \n",
       "2                      16                        97                     0   \n",
       "3                     460                       693                     0   \n",
       "4                     468                      3837                     0   \n",
       "\n",
       "   Account_creation_time_engaging  Engagee_follows_engager  Text_tokens_count  \n",
       "0                      1520948869                     True                 26  \n",
       "1                      1335110299                    False                 28  \n",
       "2                      1503940711                    False                 20  \n",
       "3                      1396311956                     True                 39  \n",
       "4                      1298646801                    False                 27  \n",
       "\n",
       "[5 rows x 21 columns]"
      ]
     },
     "execution_count": 5,
     "metadata": {},
     "output_type": "execute_result"
    }
   ],
   "source": [
    "df_val['Text_tokens_count'] = df_val['Text_tokens'].apply(lambda x: len(x.split('|')))\n",
    "df_val['Hashtags'] = df_val['Hashtags'].astype('str').apply(lambda x: len(x.split('|'))-1)\n",
    "df_val.head()"
   ]
  },
  {
   "cell_type": "markdown",
   "metadata": {},
   "source": [
    "### Quanti valori NaN ci sono?"
   ]
  },
  {
   "cell_type": "code",
   "execution_count": 6,
   "metadata": {},
   "outputs": [
    {
     "data": {
      "text/html": [
       "<div>\n",
       "<style scoped>\n",
       "    .dataframe tbody tr th:only-of-type {\n",
       "        vertical-align: middle;\n",
       "    }\n",
       "\n",
       "    .dataframe tbody tr th {\n",
       "        vertical-align: top;\n",
       "    }\n",
       "\n",
       "    .dataframe thead th {\n",
       "        text-align: right;\n",
       "    }\n",
       "</style>\n",
       "<table border=\"1\" class=\"dataframe\">\n",
       "  <thead>\n",
       "    <tr style=\"text-align: right;\">\n",
       "      <th></th>\n",
       "      <th>Text_tokens</th>\n",
       "      <th>Hashtags</th>\n",
       "      <th>Tweet_id</th>\n",
       "      <th>Present_media</th>\n",
       "      <th>Present_links</th>\n",
       "      <th>Present_domains</th>\n",
       "      <th>Tweet_type</th>\n",
       "      <th>Language</th>\n",
       "      <th>Timestamp</th>\n",
       "      <th>User_id</th>\n",
       "      <th>Follower_count</th>\n",
       "      <th>Following_count</th>\n",
       "      <th>Is_verified</th>\n",
       "      <th>Account_creation_time</th>\n",
       "      <th>User_id_engaging</th>\n",
       "      <th>Follower_count_engaging</th>\n",
       "      <th>Following_count_engaging</th>\n",
       "      <th>Is_verified_engaging</th>\n",
       "      <th>Account_creation_time_engaging</th>\n",
       "      <th>Engagee_follows_engager</th>\n",
       "    </tr>\n",
       "  </thead>\n",
       "  <tbody>\n",
       "    <tr>\n",
       "      <th>0</th>\n",
       "      <td>0</td>\n",
       "      <td>0</td>\n",
       "      <td>0</td>\n",
       "      <td>0</td>\n",
       "      <td>0</td>\n",
       "      <td>0</td>\n",
       "      <td>0</td>\n",
       "      <td>0</td>\n",
       "      <td>0</td>\n",
       "      <td>0</td>\n",
       "      <td>0</td>\n",
       "      <td>0</td>\n",
       "      <td>0</td>\n",
       "      <td>0</td>\n",
       "      <td>0</td>\n",
       "      <td>0</td>\n",
       "      <td>0</td>\n",
       "      <td>0</td>\n",
       "      <td>0</td>\n",
       "      <td>0</td>\n",
       "    </tr>\n",
       "  </tbody>\n",
       "</table>\n",
       "</div>"
      ],
      "text/plain": [
       "   Text_tokens  Hashtags  Tweet_id  Present_media  Present_links  \\\n",
       "0            0         0         0              0              0   \n",
       "\n",
       "   Present_domains  Tweet_type  Language  Timestamp  User_id  Follower_count  \\\n",
       "0                0           0         0          0        0               0   \n",
       "\n",
       "   Following_count  Is_verified  Account_creation_time  User_id_engaging  \\\n",
       "0                0            0                      0                 0   \n",
       "\n",
       "   Follower_count_engaging  Following_count_engaging  Is_verified_engaging  \\\n",
       "0                        0                         0                     0   \n",
       "\n",
       "   Account_creation_time_engaging  Engagee_follows_engager  \n",
       "0                               0                        0  "
      ]
     },
     "execution_count": 6,
     "metadata": {},
     "output_type": "execute_result"
    }
   ],
   "source": [
    "# Controllo quanti NaN ci sono\n",
    "pd.DataFrame(df_val.isnull().sum(axis=0).head(20)).T"
   ]
  },
  {
   "cell_type": "markdown",
   "metadata": {},
   "source": [
    "### Quanti sono i valori unici per ogni variabile?"
   ]
  },
  {
   "cell_type": "code",
   "execution_count": 7,
   "metadata": {},
   "outputs": [
    {
     "data": {
      "text/html": [
       "<div>\n",
       "<style scoped>\n",
       "    .dataframe tbody tr th:only-of-type {\n",
       "        vertical-align: middle;\n",
       "    }\n",
       "\n",
       "    .dataframe tbody tr th {\n",
       "        vertical-align: top;\n",
       "    }\n",
       "\n",
       "    .dataframe thead th {\n",
       "        text-align: right;\n",
       "    }\n",
       "</style>\n",
       "<table border=\"1\" class=\"dataframe\">\n",
       "  <thead>\n",
       "    <tr style=\"text-align: right;\">\n",
       "      <th></th>\n",
       "      <th>Is_verified_engaging</th>\n",
       "      <th>Is_verified</th>\n",
       "      <th>Engagee_follows_engager</th>\n",
       "      <th>Tweet_type</th>\n",
       "      <th>Present_media</th>\n",
       "      <th>Hashtags</th>\n",
       "      <th>Language</th>\n",
       "      <th>Text_tokens_count</th>\n",
       "      <th>Following_count_engaging</th>\n",
       "      <th>Follower_count_engaging</th>\n",
       "      <th>...</th>\n",
       "      <th>Present_domains</th>\n",
       "      <th>Follower_count</th>\n",
       "      <th>Present_links</th>\n",
       "      <th>Timestamp</th>\n",
       "      <th>Account_creation_time</th>\n",
       "      <th>User_id</th>\n",
       "      <th>Text_tokens</th>\n",
       "      <th>Account_creation_time_engaging</th>\n",
       "      <th>User_id_engaging</th>\n",
       "      <th>Tweet_id</th>\n",
       "    </tr>\n",
       "  </thead>\n",
       "  <tbody>\n",
       "    <tr>\n",
       "      <th>0</th>\n",
       "      <td>2</td>\n",
       "      <td>2</td>\n",
       "      <td>2</td>\n",
       "      <td>3</td>\n",
       "      <td>14</td>\n",
       "      <td>36</td>\n",
       "      <td>64</td>\n",
       "      <td>310</td>\n",
       "      <td>17391</td>\n",
       "      <td>31655</td>\n",
       "      <td>...</td>\n",
       "      <td>60351</td>\n",
       "      <td>240688</td>\n",
       "      <td>376481</td>\n",
       "      <td>597647</td>\n",
       "      <td>1594223</td>\n",
       "      <td>1598197</td>\n",
       "      <td>2822955</td>\n",
       "      <td>2899759</td>\n",
       "      <td>2915443</td>\n",
       "      <td>3226722</td>\n",
       "    </tr>\n",
       "  </tbody>\n",
       "</table>\n",
       "<p>1 rows × 21 columns</p>\n",
       "</div>"
      ],
      "text/plain": [
       "   Is_verified_engaging  Is_verified  Engagee_follows_engager  Tweet_type  \\\n",
       "0                     2            2                        2           3   \n",
       "\n",
       "   Present_media  Hashtags  Language  Text_tokens_count  \\\n",
       "0             14        36        64                310   \n",
       "\n",
       "   Following_count_engaging  Follower_count_engaging  ...  Present_domains  \\\n",
       "0                     17391                    31655  ...            60351   \n",
       "\n",
       "   Follower_count  Present_links  Timestamp  Account_creation_time  User_id  \\\n",
       "0          240688         376481     597647                1594223  1598197   \n",
       "\n",
       "   Text_tokens  Account_creation_time_engaging  User_id_engaging  Tweet_id  \n",
       "0      2822955                         2899759           2915443   3226722  \n",
       "\n",
       "[1 rows x 21 columns]"
      ]
     },
     "execution_count": 7,
     "metadata": {},
     "output_type": "execute_result"
    }
   ],
   "source": [
    "feats_counts = df_val.nunique(dropna = False)\n",
    "pd.DataFrame(feats_counts.sort_values()).T"
   ]
  },
  {
   "cell_type": "markdown",
   "metadata": {},
   "source": [
    "# Analisi singole features"
   ]
  },
  {
   "cell_type": "markdown",
   "metadata": {},
   "source": [
    "## Hashtag"
   ]
  },
  {
   "cell_type": "code",
   "execution_count": 8,
   "metadata": {},
   "outputs": [
    {
     "data": {
      "text/plain": [
       "<matplotlib.axes._subplots.AxesSubplot at 0x7f875ea2a1f0>"
      ]
     },
     "execution_count": 8,
     "metadata": {},
     "output_type": "execute_result"
    },
    {
     "data": {
      "image/png": "[encoded data removed]",
      "text/plain": [
       "<Figure size 432x288 with 1 Axes>"
      ]
     },
     "metadata": {
      "needs_background": "light"
     },
     "output_type": "display_data"
    }
   ],
   "source": [
    "df_val['Hashtags'].plot(kind='hist')"
   ]
  },
  {
   "cell_type": "markdown",
   "metadata": {},
   "source": [
    "## Text tokens"
   ]
  },
  {
   "cell_type": "markdown",
   "metadata": {},
   "source": [
    "### Text_tokens"
   ]
  },
  {
   "cell_type": "code",
   "execution_count": 9,
   "metadata": {},
   "outputs": [
    {
     "data": {
      "text/html": [
       "<div>\n",
       "<style scoped>\n",
       "    .dataframe tbody tr th:only-of-type {\n",
       "        vertical-align: middle;\n",
       "    }\n",
       "\n",
       "    .dataframe tbody tr th {\n",
       "        vertical-align: top;\n",
       "    }\n",
       "\n",
       "    .dataframe thead th {\n",
       "        text-align: right;\n",
       "    }\n",
       "</style>\n",
       "<table border=\"1\" class=\"dataframe\">\n",
       "  <thead>\n",
       "    <tr style=\"text-align: right;\">\n",
       "      <th></th>\n",
       "      <th>Text_tokens</th>\n",
       "    </tr>\n",
       "  </thead>\n",
       "  <tbody>\n",
       "    <tr>\n",
       "      <th>101|100|102</th>\n",
       "      <td>14976</td>\n",
       "    </tr>\n",
       "    <tr>\n",
       "      <th>101|102</th>\n",
       "      <td>768</td>\n",
       "    </tr>\n",
       "    <tr>\n",
       "      <th>101|9670|27023|61439|9568|119081|31503|137|118|137|106|114|14120|131|120|120|188|119|11170|120|171|12396|11403|10107|10884|10686|10350|10858|10638|102</th>\n",
       "      <td>411</td>\n",
       "    </tr>\n",
       "    <tr>\n",
       "      <th>101|9426|12508|25503|14120|131|120|120|188|119|11170|120|147|13520|11703|11565|13034|14703|11779|90772|102</th>\n",
       "      <td>399</td>\n",
       "    </tr>\n",
       "    <tr>\n",
       "      <th>101|13646|112|187|11590|142|83821|14120|131|120|120|188|119|11170|120|10608|12022|10237|11703|11259|11166|78043|11447|102</th>\n",
       "      <td>385</td>\n",
       "    </tr>\n",
       "    <tr>\n",
       "      <th>...</th>\n",
       "      <td>...</td>\n",
       "    </tr>\n",
       "    <tr>\n",
       "      <th>101|5667|1963|4470|1920|37133|60907|51143|15221|1882|119|119|3460|1923|5667|1962|47359|15802|1881|119|119|95154|100|3330|1906|1882|119|4476|3740|1943|3330|1906|1882|119|6461|82104|15355|119|2072|7168|1966|5760|7237|5318|1923|11312|1890|2329|1881|6180|4497|11592|14725|16867|6224|3446|7069|1915|1891|14813|10083|119|3235|1946|3350|15137|8462|1963|10083|119|6224|3446|7069|1915|18628|28224|1882|1929|111795|15752|111786|1882|119|5949|1940|2527|1911|48176|16867|19512|3770|1946|2195|2149|2222|31216|111822|21761|14803|99172|3820|12290|45714|2196|1946|3350|1940|6180|4497|11592|20058|10634|10083|119|119|100|2146|7165|1939|13894|22445|10055|102</th>\n",
       "      <td>1</td>\n",
       "    </tr>\n",
       "    <tr>\n",
       "      <th>101|100|784|11832|759|37548|12497|59901|35849|28241|10564|775|66709|49752|106803|26422|781|36334|10382|788|48711|23926|791|39197|37560|10382|784|11832|791|26897|10765|14695|791|10582|64488|789|82397|11832|13879|31898|54252|11693|769|21034|28089|10429|755|775|10502|36793|10961|59901|35849|49170|13154|59901|46240|16526|784|16498|30394|764|15909|59219|14695|791|39260|102211|787|82225|52516|793|29732|38116|11341|65968|33807|786|42519|10382|59901|72169|10765|11917|26213|13879|77198|10382|24738|791|26341|107852|26422|48486|787|91812|59901|37548|10700|79887|16333|90765|34707|119|119|119|108|100800|14695|168|21556|168|781|57008|10429|14120|131|120|120|188|119|11170|120|190|12022|10686|99808|10418|82678|10237|10237|102</th>\n",
       "      <td>1</td>\n",
       "    </tr>\n",
       "    <tr>\n",
       "      <th>101|10190|10182|10854|57646|10107|193|10104|10109|16488|89729|10126|86521|102</th>\n",
       "      <td>1</td>\n",
       "    </tr>\n",
       "    <tr>\n",
       "      <th>101|14120|131|120|120|188|119|11170|120|171|11369|93656|11779|10237|18686|10410|10115|102</th>\n",
       "      <td>1</td>\n",
       "    </tr>\n",
       "    <tr>\n",
       "      <th>101|56898|137|24846|10562|168|34987|10133|11517|22659|131|177|38008|11850|10105|18757|177|15329|177|17860|45020|10376|10135|62541|10410|73267|120|15498|24603|13845|21158|10380|10153|21092|47964|11850|177|23457|98800|16938|100|188|17367|10114|48201|10133|100|102</th>\n",
       "      <td>1</td>\n",
       "    </tr>\n",
       "  </tbody>\n",
       "</table>\n",
       "<p>2822955 rows × 1 columns</p>\n",
       "</div>"
      ],
      "text/plain": [
       "                                                    Text_tokens\n",
       "101|100|102                                               14976\n",
       "101|102                                                     768\n",
       "101|9670|27023|61439|9568|119081|31503|137|118|...          411\n",
       "101|9426|12508|25503|14120|131|120|120|188|119|...          399\n",
       "101|13646|112|187|11590|142|83821|14120|131|120...          385\n",
       "...                                                         ...\n",
       "101|5667|1963|4470|1920|37133|60907|51143|15221...            1\n",
       "101|100|784|11832|759|37548|12497|59901|35849|2...            1\n",
       "101|10190|10182|10854|57646|10107|193|10104|101...            1\n",
       "101|14120|131|120|120|188|119|11170|120|171|113...            1\n",
       "101|56898|137|24846|10562|168|34987|10133|11517...            1\n",
       "\n",
       "[2822955 rows x 1 columns]"
      ]
     },
     "execution_count": 9,
     "metadata": {},
     "output_type": "execute_result"
    }
   ],
   "source": [
    "#df_val['Text_tokens'] = df_val['Text_tokens'].apply(lambda x: '|'.join(sorted(x.split('|'))))\n",
    "pd.DataFrame(df_val['Text_tokens'].value_counts())"
   ]
  },
  {
   "cell_type": "code",
   "execution_count": 10,
   "metadata": {},
   "outputs": [
    {
     "data": {
      "text/plain": [
       "Series([], Name: Tweet_type, dtype: int64)"
      ]
     },
     "execution_count": 10,
     "metadata": {},
     "output_type": "execute_result"
    }
   ],
   "source": [
    "df_val[df_val['Text_tokens'] == '100|101|102']['Tweet_type'].value_counts()"
   ]
  },
  {
   "cell_type": "markdown",
   "metadata": {},
   "source": [
    "### Count"
   ]
  },
  {
   "cell_type": "code",
   "execution_count": 11,
   "metadata": {},
   "outputs": [
    {
     "data": {
      "text/plain": [
       "<matplotlib.axes._subplots.AxesSubplot at 0x7f87267b8fd0>"
      ]
     },
     "execution_count": 11,
     "metadata": {},
     "output_type": "execute_result"
    },
    {
     "data": {
      "image/png": "[encoded data removed]",
      "text/plain": [
       "<Figure size 432x288 with 1 Axes>"
      ]
     },
     "metadata": {
      "needs_background": "light"
     },
     "output_type": "display_data"
    }
   ],
   "source": [
    "df_val['Text_tokens_count'].plot(kind='hist')"
   ]
  },
  {
   "cell_type": "code",
   "execution_count": 12,
   "metadata": {},
   "outputs": [
    {
     "data": {
      "text/plain": [
       "101|100|102                                                                                                                                                                                                                                            14976\n",
       "101|102                                                                                                                                                                                                                                                  768\n",
       "101|9670|27023|61439|9568|119081|31503|137|118|137|106|114|14120|131|120|120|188|119|11170|120|171|12396|11403|10107|10884|10686|10350|10858|10638|102                                                                                                   411\n",
       "101|9426|12508|25503|14120|131|120|120|188|119|11170|120|147|13520|11703|11565|13034|14703|11779|90772|102                                                                                                                                               399\n",
       "101|13646|112|187|11590|142|83821|14120|131|120|120|188|119|11170|120|10608|12022|10237|11703|11259|11166|78043|11447|102                                                                                                                                385\n",
       "101|108043|108043|108043|14120|131|120|120|188|119|11170|120|124|10686|11274|11447|11305|21598|10477|11273|10129|102                                                                                                                                     338\n",
       "101|56898|137|10303|10112|168|109540|10133|131|12242|146|61952|10454|93161|10464|10108|15127|81050|10107|146|65000|100|188|15652|10106|169|11371|102                                                                                                     332\n",
       "101|100|100|102                                                                                                                                                                                                                                          316\n",
       "101|14120|131|120|120|188|119|11170|120|147|33953|11011|10305|12022|12674|12674|15417|11447|102                                                                                                                                                          300\n",
       "101|56898|137|10170|17394|168|77586|10692|58828|131|15127|109465|10134|19880|10911|10188|15130|10105|175|16889|22464|27521|111|10392|10410|132|169|75980|10157|17112|10111|91929|100102|63548|10911|10114|13086|62452|146|10134|56237|10354|100|102      282\n",
       "Name: Text_tokens, dtype: int64"
      ]
     },
     "execution_count": 12,
     "metadata": {},
     "output_type": "execute_result"
    }
   ],
   "source": [
    "df_val['Text_tokens'].value_counts()[:10]"
   ]
  },
  {
   "cell_type": "markdown",
   "metadata": {},
   "source": [
    "## TweetID"
   ]
  },
  {
   "cell_type": "code",
   "execution_count": 13,
   "metadata": {},
   "outputs": [
    {
     "data": {
      "image/png": "[encoded data removed]",
      "text/plain": [
       "<Figure size 432x288 with 1 Axes>"
      ]
     },
     "metadata": {
      "needs_background": "light"
     },
     "output_type": "display_data"
    }
   ],
   "source": [
    "tweet_occ = df_val['Tweet_id'].value_counts().values\n",
    "labels, counts = np.unique(tweet_occ, return_counts=True)\n",
    "tot_el = counts.sum()\n",
    "counts = [i / tot_el for i in counts]\n",
    "y_pos = np.arange(len(labels))\n",
    "plt.bar(y_pos, counts, align='center', alpha=0.5)\n",
    "plt.xticks(y_pos, labels)\n",
    "plt.show()"
   ]
  },
  {
   "cell_type": "markdown",
   "metadata": {},
   "source": [
    "## Present links\n",
    "Nota: si potrebbe costruire una feature a partire da un link che si ripete più volte\n",
    "* File Feature per Link"
   ]
  },
  {
   "cell_type": "code",
   "execution_count": 14,
   "metadata": {},
   "outputs": [
    {
     "data": {
      "text/plain": [
       "0                                   3419271\n",
       "E522B6C629B01DA6B29DE65BF5DFA55B        924\n",
       "979B4F7F5C3B6AC61479D7E0070A2D17        869\n",
       "140BCA0056E50C79778369C95D6DDC63        379\n",
       "6F4FC1683D0D6FEC76DDBE6C699BCF10        348\n",
       "52B4B186BC13C290B696BD5D304DA89A        273\n",
       "180511B4A939ADAD39FDB6604C1A9AC5        261\n",
       "4A939FCEAF42B180561F4B7D8ACE2406        260\n",
       "608B880AE03A9C931AEF7F855D0118B4        252\n",
       "FF3D932C8BDCBC65A6D0A834418B03FB        245\n",
       "Name: Present_links, dtype: int64"
      ]
     },
     "execution_count": 14,
     "metadata": {},
     "output_type": "execute_result"
    }
   ],
   "source": [
    "df_val['Present_links'].value_counts()[:10]"
   ]
  },
  {
   "cell_type": "markdown",
   "metadata": {},
   "source": [
    "## Tweet Type"
   ]
  },
  {
   "cell_type": "code",
   "execution_count": 15,
   "metadata": {},
   "outputs": [
    {
     "data": {
      "image/png": "[encoded data removed]",
      "text/plain": [
       "<Figure size 432x288 with 1 Axes>"
      ]
     },
     "metadata": {},
     "output_type": "display_data"
    }
   ],
   "source": [
    "labels = df_val['Tweet_type'].value_counts().index.values\n",
    "sizes = df_val['Tweet_type'].value_counts().values\n",
    "plt.pie(sizes, labels=labels, autopct='%1.1f%%', shadow=True, startangle=140)\n",
    "plt.show()"
   ]
  },
  {
   "cell_type": "code",
   "execution_count": 16,
   "metadata": {},
   "outputs": [
    {
     "data": {
      "text/html": [
       "<div>\n",
       "<style scoped>\n",
       "    .dataframe tbody tr th:only-of-type {\n",
       "        vertical-align: middle;\n",
       "    }\n",
       "\n",
       "    .dataframe tbody tr th {\n",
       "        vertical-align: top;\n",
       "    }\n",
       "\n",
       "    .dataframe thead th {\n",
       "        text-align: right;\n",
       "    }\n",
       "</style>\n",
       "<table border=\"1\" class=\"dataframe\">\n",
       "  <thead>\n",
       "    <tr style=\"text-align: right;\">\n",
       "      <th></th>\n",
       "      <th>Text_tokens</th>\n",
       "      <th>Hashtags</th>\n",
       "      <th>Tweet_id</th>\n",
       "      <th>Present_media</th>\n",
       "      <th>Present_links</th>\n",
       "      <th>Present_domains</th>\n",
       "      <th>Tweet_type</th>\n",
       "      <th>Language</th>\n",
       "      <th>Timestamp</th>\n",
       "      <th>User_id</th>\n",
       "      <th>...</th>\n",
       "      <th>Following_count</th>\n",
       "      <th>Is_verified</th>\n",
       "      <th>Account_creation_time</th>\n",
       "      <th>User_id_engaging</th>\n",
       "      <th>Follower_count_engaging</th>\n",
       "      <th>Following_count_engaging</th>\n",
       "      <th>Is_verified_engaging</th>\n",
       "      <th>Account_creation_time_engaging</th>\n",
       "      <th>Engagee_follows_engager</th>\n",
       "      <th>Text_tokens_count</th>\n",
       "    </tr>\n",
       "  </thead>\n",
       "  <tbody>\n",
       "    <tr>\n",
       "      <th>12</th>\n",
       "      <td>101|56898|137|13977|15417|11490|27531|10291|13...</td>\n",
       "      <td>0</td>\n",
       "      <td>97B2B88F6A4C30F67AD0868F8EBE5986</td>\n",
       "      <td>0</td>\n",
       "      <td>0</td>\n",
       "      <td>0</td>\n",
       "      <td>Retweet</td>\n",
       "      <td>D3164C7FBCF2565DDF915B1B3AEFB1DC</td>\n",
       "      <td>1582143240</td>\n",
       "      <td>D84B57C9B2077C327D5373C6C7795AE6</td>\n",
       "      <td>...</td>\n",
       "      <td>7985</td>\n",
       "      <td>0</td>\n",
       "      <td>1416142943</td>\n",
       "      <td>000052B88E27886C4DAEF585806A67BC</td>\n",
       "      <td>1136</td>\n",
       "      <td>1172</td>\n",
       "      <td>0</td>\n",
       "      <td>1520674893</td>\n",
       "      <td>True</td>\n",
       "      <td>42</td>\n",
       "    </tr>\n",
       "  </tbody>\n",
       "</table>\n",
       "<p>1 rows × 21 columns</p>\n",
       "</div>"
      ],
      "text/plain": [
       "                                          Text_tokens  Hashtags  \\\n",
       "12  101|56898|137|13977|15417|11490|27531|10291|13...         0   \n",
       "\n",
       "                            Tweet_id Present_media Present_links  \\\n",
       "12  97B2B88F6A4C30F67AD0868F8EBE5986             0             0   \n",
       "\n",
       "   Present_domains Tweet_type                          Language   Timestamp  \\\n",
       "12               0    Retweet  D3164C7FBCF2565DDF915B1B3AEFB1DC  1582143240   \n",
       "\n",
       "                             User_id  ...  Following_count  Is_verified  \\\n",
       "12  D84B57C9B2077C327D5373C6C7795AE6  ...             7985            0   \n",
       "\n",
       "    Account_creation_time                  User_id_engaging  \\\n",
       "12             1416142943  000052B88E27886C4DAEF585806A67BC   \n",
       "\n",
       "   Follower_count_engaging  Following_count_engaging  Is_verified_engaging  \\\n",
       "12                    1136                      1172                     0   \n",
       "\n",
       "    Account_creation_time_engaging  Engagee_follows_engager  Text_tokens_count  \n",
       "12                      1520674893                     True                 42  \n",
       "\n",
       "[1 rows x 21 columns]"
      ]
     },
     "execution_count": 16,
     "metadata": {},
     "output_type": "execute_result"
    }
   ],
   "source": [
    "df_val[df_val['Tweet_id'] == '97B2B88F6A4C30F67AD0868F8EBE5986']"
   ]
  },
  {
   "cell_type": "markdown",
   "metadata": {},
   "source": [
    "### Possible dataleak"
   ]
  },
  {
   "cell_type": "markdown",
   "metadata": {},
   "source": [
    "* Prendo tutti gli autori che sono anche user\n",
    "* Filtro per gli autori che hanno condiviso un tweet di tipo Retweet\n",
    "* Vado ad analizzare tra questi autori, l'azione precedente che hanno fatto, se i tweet corrispondono è un retweet"
   ]
  },
  {
   "cell_type": "code",
   "execution_count": 17,
   "metadata": {},
   "outputs": [
    {
     "data": {
      "text/html": [
       "<div>\n",
       "<style scoped>\n",
       "    .dataframe tbody tr th:only-of-type {\n",
       "        vertical-align: middle;\n",
       "    }\n",
       "\n",
       "    .dataframe tbody tr th {\n",
       "        vertical-align: top;\n",
       "    }\n",
       "\n",
       "    .dataframe thead th {\n",
       "        text-align: right;\n",
       "    }\n",
       "</style>\n",
       "<table border=\"1\" class=\"dataframe\">\n",
       "  <thead>\n",
       "    <tr style=\"text-align: right;\">\n",
       "      <th></th>\n",
       "      <th>Text_tokens</th>\n",
       "      <th>Hashtags</th>\n",
       "      <th>Tweet_id</th>\n",
       "      <th>Present_media</th>\n",
       "      <th>Present_links</th>\n",
       "      <th>Present_domains</th>\n",
       "      <th>Tweet_type</th>\n",
       "      <th>Language</th>\n",
       "      <th>Timestamp</th>\n",
       "      <th>User_id</th>\n",
       "      <th>...</th>\n",
       "      <th>Following_count</th>\n",
       "      <th>Is_verified</th>\n",
       "      <th>Account_creation_time</th>\n",
       "      <th>User_id_engaging</th>\n",
       "      <th>Follower_count_engaging</th>\n",
       "      <th>Following_count_engaging</th>\n",
       "      <th>Is_verified_engaging</th>\n",
       "      <th>Account_creation_time_engaging</th>\n",
       "      <th>Engagee_follows_engager</th>\n",
       "      <th>Text_tokens_count</th>\n",
       "    </tr>\n",
       "  </thead>\n",
       "  <tbody>\n",
       "    <tr>\n",
       "      <th>91</th>\n",
       "      <td>101|56898|137|15033|10403|15926|14403|131|182|...</td>\n",
       "      <td>0</td>\n",
       "      <td>6429B3D47FA042CFDFFE934F73DD347F</td>\n",
       "      <td>0</td>\n",
       "      <td>0</td>\n",
       "      <td>0</td>\n",
       "      <td>Retweet</td>\n",
       "      <td>D3164C7FBCF2565DDF915B1B3AEFB1DC</td>\n",
       "      <td>1582140843</td>\n",
       "      <td>63147DF8BCE9788C555D72F56F717612</td>\n",
       "      <td>...</td>\n",
       "      <td>4995</td>\n",
       "      <td>0</td>\n",
       "      <td>1455038132</td>\n",
       "      <td>000154DA6C3042A7DC9450FB6BFD936B</td>\n",
       "      <td>318</td>\n",
       "      <td>844</td>\n",
       "      <td>0</td>\n",
       "      <td>1425299226</td>\n",
       "      <td>True</td>\n",
       "      <td>12</td>\n",
       "    </tr>\n",
       "    <tr>\n",
       "      <th>171</th>\n",
       "      <td>101|56898|137|148|11259|11779|168|69342|82834|...</td>\n",
       "      <td>0</td>\n",
       "      <td>3AB339B47A286CA9AAB7071143144562</td>\n",
       "      <td>0</td>\n",
       "      <td>0</td>\n",
       "      <td>0</td>\n",
       "      <td>Retweet</td>\n",
       "      <td>06D61DCBBE938971E1EA0C38BD9B5446</td>\n",
       "      <td>1581734997</td>\n",
       "      <td>2E7E5EA523C5889F4FEDE5A64CD39C3D</td>\n",
       "      <td>...</td>\n",
       "      <td>2405</td>\n",
       "      <td>0</td>\n",
       "      <td>1530508247</td>\n",
       "      <td>00028D01F5157B58C170B17CBDAC67D7</td>\n",
       "      <td>28</td>\n",
       "      <td>65</td>\n",
       "      <td>0</td>\n",
       "      <td>1460517180</td>\n",
       "      <td>True</td>\n",
       "      <td>30</td>\n",
       "    </tr>\n",
       "    <tr>\n",
       "      <th>173</th>\n",
       "      <td>101|56898|137|57087|12577|131|177|21213|15127|...</td>\n",
       "      <td>0</td>\n",
       "      <td>135A5FF446BF28B30CC578C0A9455490</td>\n",
       "      <td>Video</td>\n",
       "      <td>0</td>\n",
       "      <td>0</td>\n",
       "      <td>Retweet</td>\n",
       "      <td>D3164C7FBCF2565DDF915B1B3AEFB1DC</td>\n",
       "      <td>1582067243</td>\n",
       "      <td>9A91339431430D7F6500B9845F3A9294</td>\n",
       "      <td>...</td>\n",
       "      <td>1924</td>\n",
       "      <td>1</td>\n",
       "      <td>1235444933</td>\n",
       "      <td>000290FBA37D89737B5D8BF29BBB56B7</td>\n",
       "      <td>58</td>\n",
       "      <td>406</td>\n",
       "      <td>0</td>\n",
       "      <td>1443721119</td>\n",
       "      <td>False</td>\n",
       "      <td>46</td>\n",
       "    </tr>\n",
       "    <tr>\n",
       "      <th>177</th>\n",
       "      <td>101|56898|137|91793|50924|11396|39900|11305|10...</td>\n",
       "      <td>0</td>\n",
       "      <td>98B37FB23646229A871D6163EDBACB43</td>\n",
       "      <td>Photo|Photo|Photo</td>\n",
       "      <td>0</td>\n",
       "      <td>0</td>\n",
       "      <td>Retweet</td>\n",
       "      <td>22C448FF81263D4BAF2A176145EE9EAD</td>\n",
       "      <td>1581981252</td>\n",
       "      <td>2A8915F8B0E27ACAF5387979FEC3B0B7</td>\n",
       "      <td>...</td>\n",
       "      <td>70</td>\n",
       "      <td>0</td>\n",
       "      <td>1499270493</td>\n",
       "      <td>0002A3D7A02C1D269FD136500342C274</td>\n",
       "      <td>5</td>\n",
       "      <td>50</td>\n",
       "      <td>0</td>\n",
       "      <td>1542378698</td>\n",
       "      <td>False</td>\n",
       "      <td>94</td>\n",
       "    </tr>\n",
       "    <tr>\n",
       "      <th>189</th>\n",
       "      <td>101|56898|137|153|82678|168|14057|131|12865|31...</td>\n",
       "      <td>0</td>\n",
       "      <td>3685FBD69192BABA61E292BB3D5B56E9</td>\n",
       "      <td>0</td>\n",
       "      <td>0</td>\n",
       "      <td>0</td>\n",
       "      <td>Retweet</td>\n",
       "      <td>D3164C7FBCF2565DDF915B1B3AEFB1DC</td>\n",
       "      <td>1582053066</td>\n",
       "      <td>5F7DB40A4297850765CF22FCAD36A9EF</td>\n",
       "      <td>...</td>\n",
       "      <td>1339</td>\n",
       "      <td>1</td>\n",
       "      <td>1259007502</td>\n",
       "      <td>0002D6B94CAAF750A95AAB45023EAF3E</td>\n",
       "      <td>317</td>\n",
       "      <td>1243</td>\n",
       "      <td>0</td>\n",
       "      <td>1236636018</td>\n",
       "      <td>False</td>\n",
       "      <td>52</td>\n",
       "    </tr>\n",
       "    <tr>\n",
       "      <th>...</th>\n",
       "      <td>...</td>\n",
       "      <td>...</td>\n",
       "      <td>...</td>\n",
       "      <td>...</td>\n",
       "      <td>...</td>\n",
       "      <td>...</td>\n",
       "      <td>...</td>\n",
       "      <td>...</td>\n",
       "      <td>...</td>\n",
       "      <td>...</td>\n",
       "      <td>...</td>\n",
       "      <td>...</td>\n",
       "      <td>...</td>\n",
       "      <td>...</td>\n",
       "      <td>...</td>\n",
       "      <td>...</td>\n",
       "      <td>...</td>\n",
       "      <td>...</td>\n",
       "      <td>...</td>\n",
       "      <td>...</td>\n",
       "      <td>...</td>\n",
       "    </tr>\n",
       "    <tr>\n",
       "      <th>3999943</th>\n",
       "      <td>101|56898|137|109292|14678|36867|131|24362|105...</td>\n",
       "      <td>0</td>\n",
       "      <td>C5CFD0CEAE0DA7E8038EC1712BAD7E85</td>\n",
       "      <td>0</td>\n",
       "      <td>0</td>\n",
       "      <td>0</td>\n",
       "      <td>Retweet</td>\n",
       "      <td>06D61DCBBE938971E1EA0C38BD9B5446</td>\n",
       "      <td>1581627958</td>\n",
       "      <td>4A21379F9DD438B37667E281C78C3563</td>\n",
       "      <td>...</td>\n",
       "      <td>10117</td>\n",
       "      <td>0</td>\n",
       "      <td>1343706031</td>\n",
       "      <td>236255209A340953D827931900A20566</td>\n",
       "      <td>648</td>\n",
       "      <td>815</td>\n",
       "      <td>0</td>\n",
       "      <td>1244072925</td>\n",
       "      <td>False</td>\n",
       "      <td>47</td>\n",
       "    </tr>\n",
       "    <tr>\n",
       "      <th>3999955</th>\n",
       "      <td>101|56898|137|190|35216|27561|10129|131|10192|...</td>\n",
       "      <td>0</td>\n",
       "      <td>0C555AD27022EC3C228E4AB773220888</td>\n",
       "      <td>0</td>\n",
       "      <td>0</td>\n",
       "      <td>0</td>\n",
       "      <td>Retweet</td>\n",
       "      <td>D3164C7FBCF2565DDF915B1B3AEFB1DC</td>\n",
       "      <td>1581838320</td>\n",
       "      <td>8B38D54BAAB7E65823C37F4567C6FF5D</td>\n",
       "      <td>...</td>\n",
       "      <td>590</td>\n",
       "      <td>0</td>\n",
       "      <td>1549581652</td>\n",
       "      <td>23628CF6C089D0458AC16A28BC8E49EB</td>\n",
       "      <td>24</td>\n",
       "      <td>312</td>\n",
       "      <td>0</td>\n",
       "      <td>1575619717</td>\n",
       "      <td>False</td>\n",
       "      <td>45</td>\n",
       "    </tr>\n",
       "    <tr>\n",
       "      <th>3999980</th>\n",
       "      <td>101|56898|137|13486|11490|21051|10162|11090|12...</td>\n",
       "      <td>0</td>\n",
       "      <td>E83D876B93A268866D79F984D69323F1</td>\n",
       "      <td>0</td>\n",
       "      <td>0</td>\n",
       "      <td>0</td>\n",
       "      <td>Retweet</td>\n",
       "      <td>D3164C7FBCF2565DDF915B1B3AEFB1DC</td>\n",
       "      <td>1581573912</td>\n",
       "      <td>1B7E82C47EE8B28CAA0FFDF2BDA0AAD5</td>\n",
       "      <td>...</td>\n",
       "      <td>13237</td>\n",
       "      <td>0</td>\n",
       "      <td>1237487652</td>\n",
       "      <td>2362E77876377EE920F4D8B5C2D3F0FA</td>\n",
       "      <td>4537</td>\n",
       "      <td>4945</td>\n",
       "      <td>0</td>\n",
       "      <td>1421257932</td>\n",
       "      <td>True</td>\n",
       "      <td>24</td>\n",
       "    </tr>\n",
       "    <tr>\n",
       "      <th>3999986</th>\n",
       "      <td>101|56898|137|10730|11537|10457|11369|11565|81...</td>\n",
       "      <td>0</td>\n",
       "      <td>4ABA6EBA5928D7263B6F57679F7964E3</td>\n",
       "      <td>Photo|Photo</td>\n",
       "      <td>0</td>\n",
       "      <td>0</td>\n",
       "      <td>Retweet</td>\n",
       "      <td>125C57F4FA6D4E110983FB11B52EFD4E</td>\n",
       "      <td>1581606939</td>\n",
       "      <td>43027A4C00CBCB0AF5542CE6EAADAF9F</td>\n",
       "      <td>...</td>\n",
       "      <td>3746</td>\n",
       "      <td>0</td>\n",
       "      <td>1571910879</td>\n",
       "      <td>2362F5D0AD38DE24EF466B8F9354E4FB</td>\n",
       "      <td>3731</td>\n",
       "      <td>4327</td>\n",
       "      <td>0</td>\n",
       "      <td>1294985940</td>\n",
       "      <td>True</td>\n",
       "      <td>82</td>\n",
       "    </tr>\n",
       "    <tr>\n",
       "      <th>3999994</th>\n",
       "      <td>101|56898|137|139|69849|85771|12396|21069|1149...</td>\n",
       "      <td>0</td>\n",
       "      <td>593541C40D2CED46C124E47936F84224</td>\n",
       "      <td>0</td>\n",
       "      <td>0</td>\n",
       "      <td>0</td>\n",
       "      <td>Retweet</td>\n",
       "      <td>D3164C7FBCF2565DDF915B1B3AEFB1DC</td>\n",
       "      <td>1581862464</td>\n",
       "      <td>0A32AE6419238CAF677C86BC6E5DA7C8</td>\n",
       "      <td>...</td>\n",
       "      <td>3722</td>\n",
       "      <td>0</td>\n",
       "      <td>1436194492</td>\n",
       "      <td>23630A2B61D0066AC6F68DC4B0EF9551</td>\n",
       "      <td>1379</td>\n",
       "      <td>1151</td>\n",
       "      <td>0</td>\n",
       "      <td>1456105539</td>\n",
       "      <td>True</td>\n",
       "      <td>18</td>\n",
       "    </tr>\n",
       "  </tbody>\n",
       "</table>\n",
       "<p>224298 rows × 21 columns</p>\n",
       "</div>"
      ],
      "text/plain": [
       "                                               Text_tokens  Hashtags  \\\n",
       "91       101|56898|137|15033|10403|15926|14403|131|182|...         0   \n",
       "171      101|56898|137|148|11259|11779|168|69342|82834|...         0   \n",
       "173      101|56898|137|57087|12577|131|177|21213|15127|...         0   \n",
       "177      101|56898|137|91793|50924|11396|39900|11305|10...         0   \n",
       "189      101|56898|137|153|82678|168|14057|131|12865|31...         0   \n",
       "...                                                    ...       ...   \n",
       "3999943  101|56898|137|109292|14678|36867|131|24362|105...         0   \n",
       "3999955  101|56898|137|190|35216|27561|10129|131|10192|...         0   \n",
       "3999980  101|56898|137|13486|11490|21051|10162|11090|12...         0   \n",
       "3999986  101|56898|137|10730|11537|10457|11369|11565|81...         0   \n",
       "3999994  101|56898|137|139|69849|85771|12396|21069|1149...         0   \n",
       "\n",
       "                                 Tweet_id      Present_media Present_links  \\\n",
       "91       6429B3D47FA042CFDFFE934F73DD347F                  0             0   \n",
       "171      3AB339B47A286CA9AAB7071143144562                  0             0   \n",
       "173      135A5FF446BF28B30CC578C0A9455490              Video             0   \n",
       "177      98B37FB23646229A871D6163EDBACB43  Photo|Photo|Photo             0   \n",
       "189      3685FBD69192BABA61E292BB3D5B56E9                  0             0   \n",
       "...                                   ...                ...           ...   \n",
       "3999943  C5CFD0CEAE0DA7E8038EC1712BAD7E85                  0             0   \n",
       "3999955  0C555AD27022EC3C228E4AB773220888                  0             0   \n",
       "3999980  E83D876B93A268866D79F984D69323F1                  0             0   \n",
       "3999986  4ABA6EBA5928D7263B6F57679F7964E3        Photo|Photo             0   \n",
       "3999994  593541C40D2CED46C124E47936F84224                  0             0   \n",
       "\n",
       "        Present_domains Tweet_type                          Language  \\\n",
       "91                    0    Retweet  D3164C7FBCF2565DDF915B1B3AEFB1DC   \n",
       "171                   0    Retweet  06D61DCBBE938971E1EA0C38BD9B5446   \n",
       "173                   0    Retweet  D3164C7FBCF2565DDF915B1B3AEFB1DC   \n",
       "177                   0    Retweet  22C448FF81263D4BAF2A176145EE9EAD   \n",
       "189                   0    Retweet  D3164C7FBCF2565DDF915B1B3AEFB1DC   \n",
       "...                 ...        ...                               ...   \n",
       "3999943               0    Retweet  06D61DCBBE938971E1EA0C38BD9B5446   \n",
       "3999955               0    Retweet  D3164C7FBCF2565DDF915B1B3AEFB1DC   \n",
       "3999980               0    Retweet  D3164C7FBCF2565DDF915B1B3AEFB1DC   \n",
       "3999986               0    Retweet  125C57F4FA6D4E110983FB11B52EFD4E   \n",
       "3999994               0    Retweet  D3164C7FBCF2565DDF915B1B3AEFB1DC   \n",
       "\n",
       "          Timestamp                           User_id  ...  Following_count  \\\n",
       "91       1582140843  63147DF8BCE9788C555D72F56F717612  ...             4995   \n",
       "171      1581734997  2E7E5EA523C5889F4FEDE5A64CD39C3D  ...             2405   \n",
       "173      1582067243  9A91339431430D7F6500B9845F3A9294  ...             1924   \n",
       "177      1581981252  2A8915F8B0E27ACAF5387979FEC3B0B7  ...               70   \n",
       "189      1582053066  5F7DB40A4297850765CF22FCAD36A9EF  ...             1339   \n",
       "...             ...                               ...  ...              ...   \n",
       "3999943  1581627958  4A21379F9DD438B37667E281C78C3563  ...            10117   \n",
       "3999955  1581838320  8B38D54BAAB7E65823C37F4567C6FF5D  ...              590   \n",
       "3999980  1581573912  1B7E82C47EE8B28CAA0FFDF2BDA0AAD5  ...            13237   \n",
       "3999986  1581606939  43027A4C00CBCB0AF5542CE6EAADAF9F  ...             3746   \n",
       "3999994  1581862464  0A32AE6419238CAF677C86BC6E5DA7C8  ...             3722   \n",
       "\n",
       "         Is_verified  Account_creation_time                  User_id_engaging  \\\n",
       "91                 0             1455038132  000154DA6C3042A7DC9450FB6BFD936B   \n",
       "171                0             1530508247  00028D01F5157B58C170B17CBDAC67D7   \n",
       "173                1             1235444933  000290FBA37D89737B5D8BF29BBB56B7   \n",
       "177                0             1499270493  0002A3D7A02C1D269FD136500342C274   \n",
       "189                1             1259007502  0002D6B94CAAF750A95AAB45023EAF3E   \n",
       "...              ...                    ...                               ...   \n",
       "3999943            0             1343706031  236255209A340953D827931900A20566   \n",
       "3999955            0             1549581652  23628CF6C089D0458AC16A28BC8E49EB   \n",
       "3999980            0             1237487652  2362E77876377EE920F4D8B5C2D3F0FA   \n",
       "3999986            0             1571910879  2362F5D0AD38DE24EF466B8F9354E4FB   \n",
       "3999994            0             1436194492  23630A2B61D0066AC6F68DC4B0EF9551   \n",
       "\n",
       "        Follower_count_engaging  Following_count_engaging  \\\n",
       "91                          318                       844   \n",
       "171                          28                        65   \n",
       "173                          58                       406   \n",
       "177                           5                        50   \n",
       "189                         317                      1243   \n",
       "...                         ...                       ...   \n",
       "3999943                     648                       815   \n",
       "3999955                      24                       312   \n",
       "3999980                    4537                      4945   \n",
       "3999986                    3731                      4327   \n",
       "3999994                    1379                      1151   \n",
       "\n",
       "         Is_verified_engaging  Account_creation_time_engaging  \\\n",
       "91                          0                      1425299226   \n",
       "171                         0                      1460517180   \n",
       "173                         0                      1443721119   \n",
       "177                         0                      1542378698   \n",
       "189                         0                      1236636018   \n",
       "...                       ...                             ...   \n",
       "3999943                     0                      1244072925   \n",
       "3999955                     0                      1575619717   \n",
       "3999980                     0                      1421257932   \n",
       "3999986                     0                      1294985940   \n",
       "3999994                     0                      1456105539   \n",
       "\n",
       "         Engagee_follows_engager  Text_tokens_count  \n",
       "91                          True                 12  \n",
       "171                         True                 30  \n",
       "173                        False                 46  \n",
       "177                        False                 94  \n",
       "189                        False                 52  \n",
       "...                          ...                ...  \n",
       "3999943                    False                 47  \n",
       "3999955                    False                 45  \n",
       "3999980                     True                 24  \n",
       "3999986                     True                 82  \n",
       "3999994                     True                 18  \n",
       "\n",
       "[224298 rows x 21 columns]"
      ]
     },
     "execution_count": 17,
     "metadata": {},
     "output_type": "execute_result"
    }
   ],
   "source": [
    "# Tutti gli autori che hanno condiviso un tweet\n",
    "df_double = df_val[df_val['User_id'].isin(df_val['User_id_engaging'])]\n",
    "# Tra questi autori -> Quanti hanno pubblicato un tweet di tipo retweet?\n",
    "#retweet = df_double[df_double['Tweet_id'].isin(df_double[df_double['Tweet_type'] == 'Retweet']['Tweet_id'])].groupby('Tweet_id').count()\n",
    "retweet = df_double[df_double['Tweet_type'] == 'Retweet']\n",
    "retweet"
   ]
  },
  {
   "cell_type": "code",
   "execution_count": 19,
   "metadata": {},
   "outputs": [],
   "source": [
    "df_compare = retweet.merge(df_val[['User_id_engaging', 'Tweet_id', 'Text_tokens', 'Text_tokens_count']], left_on='User_id', right_on='User_id_engaging', suffixes=('_attuale', '_prec'))"
   ]
  },
  {
   "cell_type": "code",
   "execution_count": 23,
   "metadata": {},
   "outputs": [
    {
     "data": {
      "text/plain": [
       "Index(['Text_tokens_attuale', 'Hashtags', 'Tweet_id_attuale', 'Present_media',\n",
       "       'Present_links', 'Present_domains', 'Tweet_type', 'Language',\n",
       "       'Timestamp', 'User_id', 'Follower_count', 'Following_count',\n",
       "       'Is_verified', 'Account_creation_time', 'User_id_engaging_attuale',\n",
       "       'Follower_count_engaging', 'Following_count_engaging',\n",
       "       'Is_verified_engaging', 'Account_creation_time_engaging',\n",
       "       'Engagee_follows_engager', 'Text_tokens_count_attuale',\n",
       "       'User_id_engaging_prec', 'Tweet_id_prec', 'Text_tokens_prec',\n",
       "       'Text_tokens_count_prec'],\n",
       "      dtype='object')"
      ]
     },
     "execution_count": 23,
     "metadata": {},
     "output_type": "execute_result"
    }
   ],
   "source": [
    "df_compare[df_compare['Text_tokens_attuale'] == df_compare['Text_tokens_prec']].columns"
   ]
  },
  {
   "cell_type": "code",
   "execution_count": null,
   "metadata": {},
   "outputs": [],
   "source": []
  },
  {
   "cell_type": "markdown",
   "metadata": {},
   "source": [
    "## User follow the author"
   ]
  },
  {
   "cell_type": "code",
   "execution_count": null,
   "metadata": {},
   "outputs": [],
   "source": [
    "labels = df_val['Engagee_follows_engager'].value_counts().index.values\n",
    "sizes = df_val['Engagee_follows_engager'].value_counts().values\n",
    "plt.pie(sizes, labels=labels, autopct='%1.1f%%', shadow=True, startangle=140)\n",
    "plt.show()"
   ]
  }
 ],
 "metadata": {
  "kernelspec": {
   "display_name": "Python 3.8.2 64-bit",
   "language": "python",
   "name": "python38264bitf52454ec237742de9f3adbeb507ffc84"
  },
  "language_info": {
   "codemirror_mode": {
    "name": "ipython",
    "version": 3
   },
   "file_extension": ".py",
   "mimetype": "text/x-python",
   "name": "python",
   "nbconvert_exporter": "python",
   "pygments_lexer": "ipython3",
   "version": "3.8.2"
  }
 },
 "nbformat": 4,
 "nbformat_minor": 2
}
