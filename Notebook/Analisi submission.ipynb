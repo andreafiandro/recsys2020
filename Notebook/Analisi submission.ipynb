{
 "cells": [
  {
   "cell_type": "code",
   "execution_count": 17,
   "metadata": {},
   "outputs": [],
   "source": [
    "import pandas as pd\n",
    "import dtale\n",
    "import gc"
   ]
  },
  {
   "cell_type": "code",
   "execution_count": 6,
   "metadata": {},
   "outputs": [],
   "source": [
    "df_like = pd.read_csv('prediction_Like.csv')\n",
    "df_like.columns = ['Tweet_id', 'User_Id', 'Like']"
   ]
  },
  {
   "cell_type": "code",
   "execution_count": 7,
   "metadata": {},
   "outputs": [],
   "source": [
    "labels = ['Retweet', 'Retweet_with_comment', 'Reply']\n",
    "for l in labels:\n",
    "    df_reply = pd.read_csv('prediction_{}.csv'.format(l))\n",
    "    df_reply = df_reply['2']\n",
    "    df_like['{}'.format(l)] = df_reply\n",
    "    del df_reply\n",
    "    gc.collect()"
   ]
  },
  {
   "cell_type": "code",
   "execution_count": 22,
   "metadata": {},
   "outputs": [
    {
     "data": {
      "text/plain": [
       "<matplotlib.axes._subplots.AxesSubplot at 0x7f46040d4b20>"
      ]
     },
     "execution_count": 22,
     "metadata": {},
     "output_type": "execute_result"
    },
    {
     "data": {
      "image/png": "[encoded data removed]",
      "text/plain": [
       "<Figure size 432x288 with 1 Axes>"
      ]
     },
     "metadata": {
      "needs_background": "light"
     },
     "output_type": "display_data"
    }
   ],
   "source": [
    "df_like['Retweet'].plot(kind='hist')"
   ]
  },
  {
   "cell_type": "code",
   "execution_count": 16,
   "metadata": {},
   "outputs": [
    {
     "data": {
      "text/plain": [
       "array([<matplotlib.axes._subplots.AxesSubplot object at 0x7f45dd734ac0>,\n",
       "       <matplotlib.axes._subplots.AxesSubplot object at 0x7f45d89e69a0>,\n",
       "       <matplotlib.axes._subplots.AxesSubplot object at 0x7f45d886c0d0>,\n",
       "       <matplotlib.axes._subplots.AxesSubplot object at 0x7f45d8938e50>],\n",
       "      dtype=object)"
      ]
     },
     "execution_count": 16,
     "metadata": {},
     "output_type": "execute_result"
    },
    {
     "data": {
      "image/png": "[encoded data removed]",
      "text/plain": [
       "<Figure size 432x288 with 4 Axes>"
      ]
     },
     "metadata": {
      "needs_background": "light"
     },
     "output_type": "display_data"
    }
   ],
   "source": [
    "df_like[['Like', 'Retweet', 'Retweet_with_comment', 'Reply']].plot(kind='hist', subplots=True)"
   ]
  },
  {
   "cell_type": "code",
   "execution_count": 23,
   "metadata": {},
   "outputs": [
    {
     "data": {
      "text/html": [
       "<div>\n",
       "<style scoped>\n",
       "    .dataframe tbody tr th:only-of-type {\n",
       "        vertical-align: middle;\n",
       "    }\n",
       "\n",
       "    .dataframe tbody tr th {\n",
       "        vertical-align: top;\n",
       "    }\n",
       "\n",
       "    .dataframe thead th {\n",
       "        text-align: right;\n",
       "    }\n",
       "</style>\n",
       "<table border=\"1\" class=\"dataframe\">\n",
       "  <thead>\n",
       "    <tr style=\"text-align: right;\">\n",
       "      <th></th>\n",
       "      <th>Tweet_id</th>\n",
       "      <th>User_Id</th>\n",
       "      <th>Like</th>\n",
       "      <th>Retweet</th>\n",
       "      <th>Retweet_with_comment</th>\n",
       "      <th>Reply</th>\n",
       "    </tr>\n",
       "  </thead>\n",
       "  <tbody>\n",
       "    <tr>\n",
       "      <th>21</th>\n",
       "      <td>B1245C5F8AB1CA50B6A82B6CEF247921</td>\n",
       "      <td>B969B8666976A8DB1822BF13F1A19C7D</td>\n",
       "      <td>0.567024</td>\n",
       "      <td>1.550171e-09</td>\n",
       "      <td>8.936696e-07</td>\n",
       "      <td>0.627947</td>\n",
       "    </tr>\n",
       "    <tr>\n",
       "      <th>161</th>\n",
       "      <td>D5C959BD11F52D0AAC266E19757CF28D</td>\n",
       "      <td>B96BC9190161982617F6882E9ED54E50</td>\n",
       "      <td>0.000157</td>\n",
       "      <td>0.000000e+00</td>\n",
       "      <td>7.685724e-21</td>\n",
       "      <td>0.507883</td>\n",
       "    </tr>\n",
       "    <tr>\n",
       "      <th>195</th>\n",
       "      <td>982CE362964FFDAD63B6F9097CC5FFCC</td>\n",
       "      <td>B96C4938D0E454BCB50495BF7B7F3694</td>\n",
       "      <td>0.000096</td>\n",
       "      <td>0.000000e+00</td>\n",
       "      <td>7.685724e-21</td>\n",
       "      <td>0.523346</td>\n",
       "    </tr>\n",
       "    <tr>\n",
       "      <th>250</th>\n",
       "      <td>DD9667509A7AFA19F75E66EDD06BC182</td>\n",
       "      <td>B96CF5BBBE143E7F4069FB166B5DAAE8</td>\n",
       "      <td>0.209985</td>\n",
       "      <td>1.401051e-01</td>\n",
       "      <td>7.685724e-21</td>\n",
       "      <td>0.473861</td>\n",
       "    </tr>\n",
       "    <tr>\n",
       "      <th>415</th>\n",
       "      <td>82C581217DE9EA40B11F0441D7AEF0AD</td>\n",
       "      <td>B96F63FF6F0DE6BE1D4E31442A003A62</td>\n",
       "      <td>0.704875</td>\n",
       "      <td>0.000000e+00</td>\n",
       "      <td>7.685724e-21</td>\n",
       "      <td>0.468671</td>\n",
       "    </tr>\n",
       "    <tr>\n",
       "      <th>...</th>\n",
       "      <td>...</td>\n",
       "      <td>...</td>\n",
       "      <td>...</td>\n",
       "      <td>...</td>\n",
       "      <td>...</td>\n",
       "      <td>...</td>\n",
       "    </tr>\n",
       "    <tr>\n",
       "      <th>13421454</th>\n",
       "      <td>4B4EA2651A2CDC03511D098EB8D23E07</td>\n",
       "      <td>5C91BCC14362FF34271F13719C517B26</td>\n",
       "      <td>0.667919</td>\n",
       "      <td>0.000000e+00</td>\n",
       "      <td>7.685753e-21</td>\n",
       "      <td>0.530268</td>\n",
       "    </tr>\n",
       "    <tr>\n",
       "      <th>13421556</th>\n",
       "      <td>75966C58BE959D06EBB19A7989FEAF38</td>\n",
       "      <td>5C931D2A2CB4C4569AB4FDE73196E3D6</td>\n",
       "      <td>0.002298</td>\n",
       "      <td>0.000000e+00</td>\n",
       "      <td>7.685724e-21</td>\n",
       "      <td>0.653004</td>\n",
       "    </tr>\n",
       "    <tr>\n",
       "      <th>13421557</th>\n",
       "      <td>F82302CB64F53047FF8D3C4F223FD11E</td>\n",
       "      <td>5C931D2A2CB4C4569AB4FDE73196E3D6</td>\n",
       "      <td>0.024828</td>\n",
       "      <td>2.447189e-02</td>\n",
       "      <td>8.936696e-07</td>\n",
       "      <td>0.619383</td>\n",
       "    </tr>\n",
       "    <tr>\n",
       "      <th>13421568</th>\n",
       "      <td>C56EC68A73194D6E632BB5F4E0BC4C14</td>\n",
       "      <td>5C934625B20BF44CAFF30D11557D3084</td>\n",
       "      <td>0.341348</td>\n",
       "      <td>0.000000e+00</td>\n",
       "      <td>7.685724e-21</td>\n",
       "      <td>0.421359</td>\n",
       "    </tr>\n",
       "    <tr>\n",
       "      <th>13421743</th>\n",
       "      <td>A9D808EB1159B895F6F43701CECFB9A1</td>\n",
       "      <td>5C95DDABEB67ED461BB8D01563C486C3</td>\n",
       "      <td>0.000096</td>\n",
       "      <td>0.000000e+00</td>\n",
       "      <td>7.685724e-21</td>\n",
       "      <td>0.460172</td>\n",
       "    </tr>\n",
       "  </tbody>\n",
       "</table>\n",
       "<p>110379 rows × 6 columns</p>\n",
       "</div>"
      ],
      "text/plain": [
       "                                  Tweet_id                           User_Id  \\\n",
       "21        B1245C5F8AB1CA50B6A82B6CEF247921  B969B8666976A8DB1822BF13F1A19C7D   \n",
       "161       D5C959BD11F52D0AAC266E19757CF28D  B96BC9190161982617F6882E9ED54E50   \n",
       "195       982CE362964FFDAD63B6F9097CC5FFCC  B96C4938D0E454BCB50495BF7B7F3694   \n",
       "250       DD9667509A7AFA19F75E66EDD06BC182  B96CF5BBBE143E7F4069FB166B5DAAE8   \n",
       "415       82C581217DE9EA40B11F0441D7AEF0AD  B96F63FF6F0DE6BE1D4E31442A003A62   \n",
       "...                                    ...                               ...   \n",
       "13421454  4B4EA2651A2CDC03511D098EB8D23E07  5C91BCC14362FF34271F13719C517B26   \n",
       "13421556  75966C58BE959D06EBB19A7989FEAF38  5C931D2A2CB4C4569AB4FDE73196E3D6   \n",
       "13421557  F82302CB64F53047FF8D3C4F223FD11E  5C931D2A2CB4C4569AB4FDE73196E3D6   \n",
       "13421568  C56EC68A73194D6E632BB5F4E0BC4C14  5C934625B20BF44CAFF30D11557D3084   \n",
       "13421743  A9D808EB1159B895F6F43701CECFB9A1  5C95DDABEB67ED461BB8D01563C486C3   \n",
       "\n",
       "              Like       Retweet  Retweet_with_comment     Reply  \n",
       "21        0.567024  1.550171e-09          8.936696e-07  0.627947  \n",
       "161       0.000157  0.000000e+00          7.685724e-21  0.507883  \n",
       "195       0.000096  0.000000e+00          7.685724e-21  0.523346  \n",
       "250       0.209985  1.401051e-01          7.685724e-21  0.473861  \n",
       "415       0.704875  0.000000e+00          7.685724e-21  0.468671  \n",
       "...            ...           ...                   ...       ...  \n",
       "13421454  0.667919  0.000000e+00          7.685753e-21  0.530268  \n",
       "13421556  0.002298  0.000000e+00          7.685724e-21  0.653004  \n",
       "13421557  0.024828  2.447189e-02          8.936696e-07  0.619383  \n",
       "13421568  0.341348  0.000000e+00          7.685724e-21  0.421359  \n",
       "13421743  0.000096  0.000000e+00          7.685724e-21  0.460172  \n",
       "\n",
       "[110379 rows x 6 columns]"
      ]
     },
     "execution_count": 23,
     "metadata": {},
     "output_type": "execute_result"
    }
   ],
   "source": [
    "df_like[df_like['Reply'] > 0.4]"
   ]
  },
  {
   "cell_type": "code",
   "execution_count": 24,
   "metadata": {},
   "outputs": [
    {
     "data": {
      "text/html": [
       "<div>\n",
       "<style scoped>\n",
       "    .dataframe tbody tr th:only-of-type {\n",
       "        vertical-align: middle;\n",
       "    }\n",
       "\n",
       "    .dataframe tbody tr th {\n",
       "        vertical-align: top;\n",
       "    }\n",
       "\n",
       "    .dataframe thead th {\n",
       "        text-align: right;\n",
       "    }\n",
       "</style>\n",
       "<table border=\"1\" class=\"dataframe\">\n",
       "  <thead>\n",
       "    <tr style=\"text-align: right;\">\n",
       "      <th></th>\n",
       "      <th>Like</th>\n",
       "      <th>Retweet</th>\n",
       "      <th>Retweet_with_comment</th>\n",
       "      <th>Reply</th>\n",
       "    </tr>\n",
       "  </thead>\n",
       "  <tbody>\n",
       "    <tr>\n",
       "      <th>count</th>\n",
       "      <td>1.342175e+07</td>\n",
       "      <td>1.342175e+07</td>\n",
       "      <td>1.342175e+07</td>\n",
       "      <td>1.342175e+07</td>\n",
       "    </tr>\n",
       "    <tr>\n",
       "      <th>mean</th>\n",
       "      <td>3.407919e-01</td>\n",
       "      <td>9.716055e-02</td>\n",
       "      <td>8.179028e-03</td>\n",
       "      <td>2.090849e-02</td>\n",
       "    </tr>\n",
       "    <tr>\n",
       "      <th>std</th>\n",
       "      <td>3.020128e-01</td>\n",
       "      <td>1.859421e-01</td>\n",
       "      <td>3.767997e-02</td>\n",
       "      <td>6.656515e-02</td>\n",
       "    </tr>\n",
       "    <tr>\n",
       "      <th>min</th>\n",
       "      <td>2.172713e-18</td>\n",
       "      <td>0.000000e+00</td>\n",
       "      <td>0.000000e+00</td>\n",
       "      <td>0.000000e+00</td>\n",
       "    </tr>\n",
       "    <tr>\n",
       "      <th>25%</th>\n",
       "      <td>2.297847e-03</td>\n",
       "      <td>0.000000e+00</td>\n",
       "      <td>7.685724e-21</td>\n",
       "      <td>5.089374e-31</td>\n",
       "    </tr>\n",
       "    <tr>\n",
       "      <th>50%</th>\n",
       "      <td>3.050884e-01</td>\n",
       "      <td>0.000000e+00</td>\n",
       "      <td>7.685724e-21</td>\n",
       "      <td>5.089374e-31</td>\n",
       "    </tr>\n",
       "    <tr>\n",
       "      <th>75%</th>\n",
       "      <td>5.925834e-01</td>\n",
       "      <td>1.393075e-01</td>\n",
       "      <td>8.310848e-07</td>\n",
       "      <td>2.404792e-02</td>\n",
       "    </tr>\n",
       "    <tr>\n",
       "      <th>max</th>\n",
       "      <td>9.998970e-01</td>\n",
       "      <td>1.000000e+00</td>\n",
       "      <td>9.999094e-01</td>\n",
       "      <td>9.999158e-01</td>\n",
       "    </tr>\n",
       "  </tbody>\n",
       "</table>\n",
       "</div>"
      ],
      "text/plain": [
       "               Like       Retweet  Retweet_with_comment         Reply\n",
       "count  1.342175e+07  1.342175e+07          1.342175e+07  1.342175e+07\n",
       "mean   3.407919e-01  9.716055e-02          8.179028e-03  2.090849e-02\n",
       "std    3.020128e-01  1.859421e-01          3.767997e-02  6.656515e-02\n",
       "min    2.172713e-18  0.000000e+00          0.000000e+00  0.000000e+00\n",
       "25%    2.297847e-03  0.000000e+00          7.685724e-21  5.089374e-31\n",
       "50%    3.050884e-01  0.000000e+00          7.685724e-21  5.089374e-31\n",
       "75%    5.925834e-01  1.393075e-01          8.310848e-07  2.404792e-02\n",
       "max    9.998970e-01  1.000000e+00          9.999094e-01  9.999158e-01"
      ]
     },
     "execution_count": 24,
     "metadata": {},
     "output_type": "execute_result"
    }
   ],
   "source": [
    "df_like.describe()"
   ]
  }
 ],
 "metadata": {
  "kernelspec": {
   "display_name": "Python 3.8.2 64-bit",
   "language": "python",
   "name": "python38264bitf52454ec237742de9f3adbeb507ffc84"
  },
  "language_info": {
   "codemirror_mode": {
    "name": "ipython",
    "version": 3
   },
   "file_extension": ".py",
   "mimetype": "text/x-python",
   "name": "python",
   "nbconvert_exporter": "python",
   "pygments_lexer": "ipython3",
   "version": "3.8.2"
  }
 },
 "nbformat": 4,
 "nbformat_minor": 2
}
